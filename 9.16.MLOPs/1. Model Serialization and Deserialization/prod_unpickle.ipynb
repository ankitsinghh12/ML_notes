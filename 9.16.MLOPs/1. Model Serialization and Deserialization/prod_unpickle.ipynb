{
 "cells": [
  {
   "cell_type": "markdown",
   "id": "3ef59af8",
   "metadata": {},
   "source": [
    "## Productionisation (Model Deserialization)"
   ]
  },
  {
   "cell_type": "code",
   "execution_count": 1,
   "id": "8a012342",
   "metadata": {},
   "outputs": [],
   "source": [
    "import numpy as np\n",
    "from pickle import load"
   ]
  },
  {
   "cell_type": "code",
   "execution_count": 5,
   "id": "ecc6ea2e",
   "metadata": {},
   "outputs": [],
   "source": [
    "# Loading pretrained classifiers from pickle file\n",
    "\n",
    "scaler = load(open('D:\\github\\MLOPs\\models\\standard_scaler.pkl', 'rb'))\n",
    "knn_classifier = load(open('D:\\github\\MLOPs\\models\\knn_model.pkl', 'rb'))\n",
    "lr_classifier = load(open('D:\\github\\MLOPs\\models\\lr_model.pkl', 'rb'))\n",
    "\n",
    "dt_classifier = load(open('D:\\github\\MLOPs\\models\\dt_model.pkl', 'rb'))\n",
    "sv_classifier = load(open('D:\\github\\MLOPs\\models\\sv_model.pkl', 'rb'))"
   ]
  },
  {
   "cell_type": "code",
   "execution_count": 6,
   "id": "39dc5367",
   "metadata": {},
   "outputs": [
    {
     "name": "stdout",
     "output_type": "stream",
     "text": [
      "Enter Iris Flower Details\n",
      "Enter the SepalLength (in cm): 5.1\n",
      "Enter the SepalWidth (in cm): 3.0\n",
      "Enter the PetalLength (in cm): 1.1\n",
      "Enter the PetalWidth (in cm): 0.1\n"
     ]
    }
   ],
   "source": [
    "# Read the Query Data\n",
    "\n",
    "print(\"Enter Iris Flower Details\")\n",
    "sl = float(input('Enter the SepalLength (in cm): '))\n",
    "sw = float(input('Enter the SepalWidth (in cm): '))\n",
    "pl = float(input('Enter the PetalLength (in cm): '))\n",
    "pw = float(input('Enter the PetalWidth (in cm): '))"
   ]
  },
  {
   "cell_type": "markdown",
   "id": "5f766b95",
   "metadata": {},
   "source": [
    "## Converting the values to 2D Array"
   ]
  },
  {
   "cell_type": "code",
   "execution_count": 7,
   "id": "68a134cb",
   "metadata": {},
   "outputs": [],
   "source": [
    "#Converting it into 2D array because it will thrown an error if we work on 1D array"
   ]
  },
  {
   "cell_type": "code",
   "execution_count": 8,
   "id": "f3fd3daa",
   "metadata": {},
   "outputs": [],
   "source": [
    "query_point = np.array([sl, sw, pl, pw])"
   ]
  },
  {
   "cell_type": "code",
   "execution_count": 9,
   "id": "8b1f7b59",
   "metadata": {},
   "outputs": [
    {
     "data": {
      "text/plain": [
       "array([5.1, 3. , 1.1, 0.1])"
      ]
     },
     "execution_count": 9,
     "metadata": {},
     "output_type": "execute_result"
    }
   ],
   "source": [
    "query_point"
   ]
  },
  {
   "cell_type": "code",
   "execution_count": 10,
   "id": "cc8a9101",
   "metadata": {},
   "outputs": [
    {
     "data": {
      "text/plain": [
       "array([[5.1, 3. , 1.1, 0.1]])"
      ]
     },
     "execution_count": 10,
     "metadata": {},
     "output_type": "execute_result"
    }
   ],
   "source": [
    "query_point.reshape(1, -1)"
   ]
  },
  {
   "cell_type": "code",
   "execution_count": 12,
   "id": "3a6439f0",
   "metadata": {},
   "outputs": [
    {
     "data": {
      "text/plain": [
       "array([[5.1, 3. , 1.1, 0.1]])"
      ]
     },
     "execution_count": 12,
     "metadata": {},
     "output_type": "execute_result"
    }
   ],
   "source": [
    "query_point = query_point.reshape(1, -1)\n",
    "\n",
    "query_point"
   ]
  },
  {
   "cell_type": "code",
   "execution_count": 13,
   "id": "c4deb331",
   "metadata": {},
   "outputs": [
    {
     "name": "stderr",
     "output_type": "stream",
     "text": [
      "C:\\Users\\ani\\anaconda3\\lib\\site-packages\\sklearn\\base.py:450: UserWarning: X does not have valid feature names, but StandardScaler was fitted with feature names\n",
      "  warnings.warn(\n"
     ]
    },
    {
     "data": {
      "text/plain": [
       "array([[-0.90683992, -0.11925475, -1.50416612, -1.44042398]])"
      ]
     },
     "execution_count": 13,
     "metadata": {},
     "output_type": "execute_result"
    }
   ],
   "source": [
    "query_point_transformed = scaler.transform(query_point)\n",
    "\n",
    "query_point_transformed"
   ]
  },
  {
   "cell_type": "code",
   "execution_count": 14,
   "id": "2faa491a",
   "metadata": {},
   "outputs": [
    {
     "name": "stderr",
     "output_type": "stream",
     "text": [
      "C:\\Users\\ani\\anaconda3\\lib\\site-packages\\sklearn\\base.py:450: UserWarning: X does not have valid feature names, but KNeighborsClassifier was fitted with feature names\n",
      "  warnings.warn(\n"
     ]
    },
    {
     "data": {
      "text/plain": [
       "array(['Iris-setosa'], dtype=object)"
      ]
     },
     "execution_count": 14,
     "metadata": {},
     "output_type": "execute_result"
    }
   ],
   "source": [
    "knn_classifier.predict(query_point_transformed)"
   ]
  },
  {
   "cell_type": "code",
   "execution_count": 15,
   "id": "84abb35e",
   "metadata": {},
   "outputs": [
    {
     "name": "stderr",
     "output_type": "stream",
     "text": [
      "C:\\Users\\ani\\anaconda3\\lib\\site-packages\\sklearn\\base.py:450: UserWarning: X does not have valid feature names, but LogisticRegression was fitted with feature names\n",
      "  warnings.warn(\n"
     ]
    },
    {
     "data": {
      "text/plain": [
       "array(['Iris-setosa'], dtype=object)"
      ]
     },
     "execution_count": 15,
     "metadata": {},
     "output_type": "execute_result"
    }
   ],
   "source": [
    "lr_classifier.predict(query_point_transformed)"
   ]
  },
  {
   "cell_type": "code",
   "execution_count": 17,
   "id": "244d0b83",
   "metadata": {},
   "outputs": [
    {
     "name": "stderr",
     "output_type": "stream",
     "text": [
      "C:\\Users\\ani\\anaconda3\\lib\\site-packages\\sklearn\\base.py:450: UserWarning: X does not have valid feature names, but DecisionTreeClassifier was fitted with feature names\n",
      "  warnings.warn(\n"
     ]
    },
    {
     "data": {
      "text/plain": [
       "array(['Iris-setosa'], dtype=object)"
      ]
     },
     "execution_count": 17,
     "metadata": {},
     "output_type": "execute_result"
    }
   ],
   "source": [
    "dt_classifier.predict(query_point_transformed)"
   ]
  },
  {
   "cell_type": "code",
   "execution_count": 18,
   "id": "2fba12bd",
   "metadata": {},
   "outputs": [
    {
     "name": "stderr",
     "output_type": "stream",
     "text": [
      "C:\\Users\\ani\\anaconda3\\lib\\site-packages\\sklearn\\base.py:450: UserWarning: X does not have valid feature names, but SVC was fitted with feature names\n",
      "  warnings.warn(\n"
     ]
    },
    {
     "data": {
      "text/plain": [
       "array(['Iris-setosa'], dtype=object)"
      ]
     },
     "execution_count": 18,
     "metadata": {},
     "output_type": "execute_result"
    }
   ],
   "source": [
    "sv_classifier.predict(query_point_transformed)"
   ]
  },
  {
   "cell_type": "markdown",
   "id": "47afda23",
   "metadata": {},
   "source": [
    "## Production Ready Code"
   ]
  },
  {
   "cell_type": "code",
   "execution_count": 19,
   "id": "75ed6646",
   "metadata": {},
   "outputs": [
    {
     "name": "stdout",
     "output_type": "stream",
     "text": [
      "Enter Iris Flower Details\n",
      "Enter the SepalLength (in cm): 5.1\n",
      "Enter the SepalWidth (in cm): 3.0\n",
      "Enter the PetalLength (in cm): 1.1\n",
      "Enter the PetalWidth (in cm): 0.1\n"
     ]
    },
    {
     "name": "stderr",
     "output_type": "stream",
     "text": [
      "C:\\Users\\ani\\anaconda3\\lib\\site-packages\\sklearn\\base.py:450: UserWarning: X does not have valid feature names, but StandardScaler was fitted with feature names\n",
      "  warnings.warn(\n",
      "C:\\Users\\ani\\anaconda3\\lib\\site-packages\\sklearn\\base.py:450: UserWarning: X does not have valid feature names, but KNeighborsClassifier was fitted with feature names\n",
      "  warnings.warn(\n"
     ]
    },
    {
     "data": {
      "text/plain": [
       "array(['Iris-setosa'], dtype=object)"
      ]
     },
     "execution_count": 19,
     "metadata": {},
     "output_type": "execute_result"
    }
   ],
   "source": [
    "# Read the Query Data\n",
    "\n",
    "print(\"Enter Iris Flower Details\")\n",
    "sl = float(input('Enter the SepalLength (in cm): '))\n",
    "sw = float(input('Enter the SepalWidth (in cm): '))\n",
    "pl = float(input('Enter the PetalLength (in cm): '))\n",
    "pw = float(input('Enter the PetalWidth (in cm): '))\n",
    "\n",
    "query_point = np.array([sl, sw, pl, pw]).reshape(1, -1)\n",
    "\n",
    "query_point_transformed = scaler.transform(query_point)\n",
    "\n",
    "knn_classifier.predict(query_point_transformed)"
   ]
  },
  {
   "cell_type": "code",
   "execution_count": null,
   "id": "9621bdd0",
   "metadata": {},
   "outputs": [],
   "source": []
  }
 ],
 "metadata": {
  "kernelspec": {
   "display_name": "Python 3",
   "language": "python",
   "name": "python3"
  },
  "language_info": {
   "codemirror_mode": {
    "name": "ipython",
    "version": 3
   },
   "file_extension": ".py",
   "mimetype": "text/x-python",
   "name": "python",
   "nbconvert_exporter": "python",
   "pygments_lexer": "ipython3",
   "version": "3.8.8"
  }
 },
 "nbformat": 4,
 "nbformat_minor": 5
}
