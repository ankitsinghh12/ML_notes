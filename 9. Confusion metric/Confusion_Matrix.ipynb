{
 "cells": [
  {
   "cell_type": "markdown",
   "id": "1c512033",
   "metadata": {},
   "source": [
    "### Confusion metrix allow us to see where our algorithm went wrong"
   ]
  },
  {
   "cell_type": "code",
   "execution_count": 7,
   "id": "e4e8e8e7",
   "metadata": {},
   "outputs": [],
   "source": [
    "import pandas as pd\n",
    "import matplotlib.pyplot as plt\n",
    "from sklearn import model_selection\n",
    "from sklearn.datasets import load_iris\n",
    "from sklearn.metrics import accuracy_score\n",
    "from sklearn.metrics import confusion_matrix\n",
    "from sklearn.metrics import plot_confusion_matrix\n",
    "from sklearn.neighbors import KNeighborsClassifier"
   ]
  },
  {
   "cell_type": "code",
   "execution_count": 8,
   "id": "2fd92fad",
   "metadata": {},
   "outputs": [],
   "source": [
    "def iris_type(row):\n",
    "    if row['Target'] == 0:\n",
    "        return 'Iris-setosa'\n",
    "    elif row['Target'] == 1:\n",
    "        return 'Iris-versicolor'\n",
    "    elif row['Target'] == 2:\n",
    "        return 'Iris-virginica'"
   ]
  },
  {
   "cell_type": "code",
   "execution_count": 20,
   "id": "3c47f8ee",
   "metadata": {},
   "outputs": [],
   "source": [
    "iris = load_iris()\n",
    "df =pd.DataFrame(iris.data)\n",
    "df.columns = ['Sepal_Length', 'Sepal_Width', 'Petal_Length', 'Petal_Width']\n",
    "df['Target'] = iris.target\n",
    "df['Iris_Type'] = df.apply(iris_type, axis = 1)"
   ]
  },
  {
   "cell_type": "code",
   "execution_count": 21,
   "id": "9ae3cde8",
   "metadata": {},
   "outputs": [],
   "source": [
    "x = df[df.columns[0:4]].values\n",
    "y = df[df.columns[5]].values"
   ]
  },
  {
   "cell_type": "code",
   "execution_count": 22,
   "id": "b7e684db",
   "metadata": {},
   "outputs": [],
   "source": [
    "X_train, X_test, y_train, y_test = model_selection.train_test_split(x,y,test_size = 0.2)"
   ]
  },
  {
   "cell_type": "code",
   "execution_count": 25,
   "id": "3612788b",
   "metadata": {},
   "outputs": [
    {
     "name": "stdout",
     "output_type": "stream",
     "text": [
      "Accuracy of the knn algorithm is: 0.9666666666666667\n"
     ]
    }
   ],
   "source": [
    "knn_clf = KNeighborsClassifier(n_neighbors=9)\n",
    "knn_clf.fit(X_train,y_train)\n",
    "knn_predictions = knn_clf.predict(X_test)\n",
    "print('Accuracy of the knn algorithm is: {}'.format(accuracy_score(y_test, knn_predictions)))"
   ]
  },
  {
   "cell_type": "markdown",
   "id": "c94caf92",
   "metadata": {},
   "source": [
    "### here we not getting 100 percent accuracy so we will apply sk learn confusion matrix "
   ]
  },
  {
   "cell_type": "code",
   "execution_count": 27,
   "id": "954a64f9",
   "metadata": {},
   "outputs": [
    {
     "data": {
      "text/plain": [
       "array([[11,  0,  0],\n",
       "       [ 0, 11,  0],\n",
       "       [ 0,  1,  7]], dtype=int64)"
      ]
     },
     "execution_count": 27,
     "metadata": {},
     "output_type": "execute_result"
    }
   ],
   "source": [
    "confusion_matrix(y_test, knn_predictions)"
   ]
  },
  {
   "cell_type": "code",
   "execution_count": 34,
   "id": "2c0626ea",
   "metadata": {},
   "outputs": [
    {
     "data": {
      "image/png": "[encoded data removed]",
      "text/plain": [
       "<Figure size 720x432 with 2 Axes>"
      ]
     },
     "metadata": {
      "needs_background": "light"
     },
     "output_type": "display_data"
    }
   ],
   "source": [
    "matrix = plot_confusion_matrix(knn_clf, X_test, y_test, cmap=plt.cm.Reds)\n",
    "matrix.ax_.set_title('Confusion Matrix', color='black')\n",
    "plt.xlabel('Predicted Label', color='black')\n",
    "plt.ylabel('True Label', color='black')\n",
    "plt.gcf().axes[0].tick_params(colors='black')\n",
    "plt.gcf().axes[1].tick_params(colors='black')\n",
    "plt.gcf().set_size_inches(10,6)\n",
    "plt.show()"
   ]
  },
  {
   "cell_type": "markdown",
   "id": "036a01b8",
   "metadata": {},
   "source": [
    "so this is how it shows where our algorithms are going wrong. its just not provide us the accuracy score but this also gives us that extra dimention of information where our model is performing "
   ]
  }
 ],
 "metadata": {
  "kernelspec": {
   "display_name": "Python 3",
   "language": "python",
   "name": "python3"
  },
  "language_info": {
   "codemirror_mode": {
    "name": "ipython",
    "version": 3
   },
   "file_extension": ".py",
   "mimetype": "text/x-python",
   "name": "python",
   "nbconvert_exporter": "python",
   "pygments_lexer": "ipython3",
   "version": "3.8.8"
  }
 },
 "nbformat": 4,
 "nbformat_minor": 5
}
